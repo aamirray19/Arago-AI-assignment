{
 "cells": [
  {
   "cell_type": "code",
   "execution_count": 1,
   "metadata": {},
   "outputs": [],
   "source": [
    "# Importing required libraries\n",
    "import joblib\n",
    "import pandas as pd\n",
    "from sklearn.ensemble import RandomForestClassifier\n",
    "from xgboost import XGBClassifier\n",
    "import pickle"
   ]
  },
  {
   "cell_type": "code",
   "execution_count": 2,
   "metadata": {},
   "outputs": [],
   "source": [
    "import pickle\n",
    "import pandas as pd\n",
    "\n",
    "# Sample input data\n",
    "input_data = {\n",
    "    \"Shipment ID\": 1,\n",
    "    \"Origin\": 'jaipur',\n",
    "    \"Destination\": 'mumbai',\n",
    "    \"Shipment Date\": '2024-12-20',\n",
    "    \"Planned Delivery Date\": '2024-12-22',\n",
    "    \"Vehicle Type\": 'Truck',\n",
    "    \"Distance (km)\": 1592,\n",
    "    \"Weather Conditions\": 'Clear',\n",
    "    \"Traffic Conditions\": 'Moderate'\n",
    "}\n",
    "\n",
    "\n"
   ]
  },
  {
   "cell_type": "code",
   "execution_count": 3,
   "metadata": {},
   "outputs": [],
   "source": [
    "# Load the encoder and scaler\n",
    "with open('onehot_encoder_weather.pkl', 'rb') as file:\n",
    "    onehot_encoder_weather = pickle.load(file)\n",
    "\n",
    "with open('onehot_encoder_traffic.pkl', 'rb') as file:\n",
    "    onehot_encoder_traffic = pickle.load(file)\n",
    "\n",
    "with open('label_encoder_delayed.pkl', 'rb') as file:\n",
    "    label_encoder_delayed = pickle.load(file)\n"
   ]
  },
  {
   "cell_type": "code",
   "execution_count": 4,
   "metadata": {},
   "outputs": [
    {
     "name": "stderr",
     "output_type": "stream",
     "text": [
      "c:\\ProgramData\\anaconda3\\Lib\\site-packages\\sklearn\\base.py:493: UserWarning: X does not have valid feature names, but OneHotEncoder was fitted with feature names\n",
      "  warnings.warn(\n"
     ]
    },
    {
     "data": {
      "text/html": [
       "<div>\n",
       "<style scoped>\n",
       "    .dataframe tbody tr th:only-of-type {\n",
       "        vertical-align: middle;\n",
       "    }\n",
       "\n",
       "    .dataframe tbody tr th {\n",
       "        vertical-align: top;\n",
       "    }\n",
       "\n",
       "    .dataframe thead th {\n",
       "        text-align: right;\n",
       "    }\n",
       "</style>\n",
       "<table border=\"1\" class=\"dataframe\">\n",
       "  <thead>\n",
       "    <tr style=\"text-align: right;\">\n",
       "      <th></th>\n",
       "      <th>Weather Conditions_Clear</th>\n",
       "      <th>Weather Conditions_Fog</th>\n",
       "      <th>Weather Conditions_Rain</th>\n",
       "      <th>Weather Conditions_Storm</th>\n",
       "    </tr>\n",
       "  </thead>\n",
       "  <tbody>\n",
       "    <tr>\n",
       "      <th>0</th>\n",
       "      <td>1.0</td>\n",
       "      <td>0.0</td>\n",
       "      <td>0.0</td>\n",
       "      <td>0.0</td>\n",
       "    </tr>\n",
       "  </tbody>\n",
       "</table>\n",
       "</div>"
      ],
      "text/plain": [
       "   Weather Conditions_Clear  Weather Conditions_Fog  Weather Conditions_Rain  \\\n",
       "0                       1.0                     0.0                      0.0   \n",
       "\n",
       "   Weather Conditions_Storm  \n",
       "0                       0.0  "
      ]
     },
     "execution_count": 4,
     "metadata": {},
     "output_type": "execute_result"
    }
   ],
   "source": [
    "# One-hot encode 'Weather Conditions' \n",
    "# Convert input to DataFrame and reshape to 2D array\n",
    "weather_encoded = onehot_encoder_weather.transform([[input_data['Weather Conditions']]]).toarray()\n",
    "\n",
    "# Create a DataFrame for the one-hot encoded values\n",
    "weather_encoded_df = pd.DataFrame(weather_encoded, columns=onehot_encoder_weather.get_feature_names_out(['Weather Conditions']))\n",
    "weather_encoded_df"
   ]
  },
  {
   "cell_type": "code",
   "execution_count": 5,
   "metadata": {},
   "outputs": [
    {
     "name": "stderr",
     "output_type": "stream",
     "text": [
      "c:\\ProgramData\\anaconda3\\Lib\\site-packages\\sklearn\\base.py:493: UserWarning: X does not have valid feature names, but OneHotEncoder was fitted with feature names\n",
      "  warnings.warn(\n"
     ]
    },
    {
     "data": {
      "text/html": [
       "<div>\n",
       "<style scoped>\n",
       "    .dataframe tbody tr th:only-of-type {\n",
       "        vertical-align: middle;\n",
       "    }\n",
       "\n",
       "    .dataframe tbody tr th {\n",
       "        vertical-align: top;\n",
       "    }\n",
       "\n",
       "    .dataframe thead th {\n",
       "        text-align: right;\n",
       "    }\n",
       "</style>\n",
       "<table border=\"1\" class=\"dataframe\">\n",
       "  <thead>\n",
       "    <tr style=\"text-align: right;\">\n",
       "      <th></th>\n",
       "      <th>Traffic Conditions_Heavy</th>\n",
       "      <th>Traffic Conditions_Light</th>\n",
       "      <th>Traffic Conditions_Moderate</th>\n",
       "    </tr>\n",
       "  </thead>\n",
       "  <tbody>\n",
       "    <tr>\n",
       "      <th>0</th>\n",
       "      <td>0.0</td>\n",
       "      <td>0.0</td>\n",
       "      <td>1.0</td>\n",
       "    </tr>\n",
       "  </tbody>\n",
       "</table>\n",
       "</div>"
      ],
      "text/plain": [
       "   Traffic Conditions_Heavy  Traffic Conditions_Light  \\\n",
       "0                       0.0                       0.0   \n",
       "\n",
       "   Traffic Conditions_Moderate  \n",
       "0                          1.0  "
      ]
     },
     "execution_count": 5,
     "metadata": {},
     "output_type": "execute_result"
    }
   ],
   "source": [
    "# One-hot encode 'Traffic Conditions'\n",
    "# Convert input to list and reshape to 2D array\n",
    "traffic_encoded = onehot_encoder_traffic.transform([[input_data['Traffic Conditions']]]).toarray()\n",
    "\n",
    "# Create a DataFrame for the one-hot encoded values\n",
    "traffic_encoded_df = pd.DataFrame(traffic_encoded, columns=onehot_encoder_traffic.get_feature_names_out(['Traffic Conditions']))\n",
    "traffic_encoded_df"
   ]
  },
  {
   "cell_type": "code",
   "execution_count": 6,
   "metadata": {},
   "outputs": [
    {
     "data": {
      "text/html": [
       "<div>\n",
       "<style scoped>\n",
       "    .dataframe tbody tr th:only-of-type {\n",
       "        vertical-align: middle;\n",
       "    }\n",
       "\n",
       "    .dataframe tbody tr th {\n",
       "        vertical-align: top;\n",
       "    }\n",
       "\n",
       "    .dataframe thead th {\n",
       "        text-align: right;\n",
       "    }\n",
       "</style>\n",
       "<table border=\"1\" class=\"dataframe\">\n",
       "  <thead>\n",
       "    <tr style=\"text-align: right;\">\n",
       "      <th></th>\n",
       "      <th>Shipment ID</th>\n",
       "      <th>Origin</th>\n",
       "      <th>Destination</th>\n",
       "      <th>Shipment Date</th>\n",
       "      <th>Planned Delivery Date</th>\n",
       "      <th>Vehicle Type</th>\n",
       "      <th>Distance (km)</th>\n",
       "      <th>Weather Conditions</th>\n",
       "      <th>Traffic Conditions</th>\n",
       "    </tr>\n",
       "  </thead>\n",
       "  <tbody>\n",
       "    <tr>\n",
       "      <th>0</th>\n",
       "      <td>1</td>\n",
       "      <td>jaipur</td>\n",
       "      <td>mumbai</td>\n",
       "      <td>2024-12-20</td>\n",
       "      <td>2024-12-22</td>\n",
       "      <td>Truck</td>\n",
       "      <td>1592</td>\n",
       "      <td>Clear</td>\n",
       "      <td>Moderate</td>\n",
       "    </tr>\n",
       "  </tbody>\n",
       "</table>\n",
       "</div>"
      ],
      "text/plain": [
       "   Shipment ID  Origin Destination Shipment Date Planned Delivery Date  \\\n",
       "0            1  jaipur      mumbai    2024-12-20            2024-12-22   \n",
       "\n",
       "  Vehicle Type  Distance (km) Weather Conditions Traffic Conditions  \n",
       "0        Truck           1592              Clear           Moderate  "
      ]
     },
     "execution_count": 6,
     "metadata": {},
     "output_type": "execute_result"
    }
   ],
   "source": [
    "#converting the dict data to dataframe\n",
    "input_df = pd.DataFrame([input_data])\n",
    "input_df"
   ]
  },
  {
   "cell_type": "code",
   "execution_count": 7,
   "metadata": {},
   "outputs": [
    {
     "data": {
      "text/html": [
       "<div>\n",
       "<style scoped>\n",
       "    .dataframe tbody tr th:only-of-type {\n",
       "        vertical-align: middle;\n",
       "    }\n",
       "\n",
       "    .dataframe tbody tr th {\n",
       "        vertical-align: top;\n",
       "    }\n",
       "\n",
       "    .dataframe thead th {\n",
       "        text-align: right;\n",
       "    }\n",
       "</style>\n",
       "<table border=\"1\" class=\"dataframe\">\n",
       "  <thead>\n",
       "    <tr style=\"text-align: right;\">\n",
       "      <th></th>\n",
       "      <th>Distance (km)</th>\n",
       "      <th>Traffic Conditions_Heavy</th>\n",
       "      <th>Traffic Conditions_Light</th>\n",
       "      <th>Traffic Conditions_Moderate</th>\n",
       "      <th>Weather Conditions_Clear</th>\n",
       "      <th>Weather Conditions_Fog</th>\n",
       "      <th>Weather Conditions_Rain</th>\n",
       "      <th>Weather Conditions_Storm</th>\n",
       "    </tr>\n",
       "  </thead>\n",
       "  <tbody>\n",
       "    <tr>\n",
       "      <th>0</th>\n",
       "      <td>1592</td>\n",
       "      <td>0.0</td>\n",
       "      <td>0.0</td>\n",
       "      <td>1.0</td>\n",
       "      <td>1.0</td>\n",
       "      <td>0.0</td>\n",
       "      <td>0.0</td>\n",
       "      <td>0.0</td>\n",
       "    </tr>\n",
       "  </tbody>\n",
       "</table>\n",
       "</div>"
      ],
      "text/plain": [
       "   Distance (km)  Traffic Conditions_Heavy  Traffic Conditions_Light  \\\n",
       "0           1592                       0.0                       0.0   \n",
       "\n",
       "   Traffic Conditions_Moderate  Weather Conditions_Clear  \\\n",
       "0                          1.0                       1.0   \n",
       "\n",
       "   Weather Conditions_Fog  Weather Conditions_Rain  Weather Conditions_Storm  \n",
       "0                     0.0                      0.0                       0.0  "
      ]
     },
     "execution_count": 7,
     "metadata": {},
     "output_type": "execute_result"
    }
   ],
   "source": [
    "#concatenate the columns\n",
    "input_df=pd.concat([input_df.drop(columns=['Shipment ID', 'Origin', 'Destination', 'Shipment Date',\t'Planned Delivery Date', 'Vehicle Type', 'Weather Conditions', 'Traffic Conditions'],axis=1),traffic_encoded_df, weather_encoded_df],axis=1)\n",
    "input_df"
   ]
  },
  {
   "cell_type": "code",
   "execution_count": 8,
   "metadata": {},
   "outputs": [],
   "source": [
    "# Load the pre-trained models\n",
    "rf_model = joblib.load('random_forest_model.pkl')  \n",
    "xgb_model = joblib.load('xgboost_model.pkl')  "
   ]
  },
  {
   "cell_type": "code",
   "execution_count": 9,
   "metadata": {},
   "outputs": [
    {
     "name": "stdout",
     "output_type": "stream",
     "text": [
      "Prediction: Yes\n"
     ]
    }
   ],
   "source": [
    "prediction = rf_model.predict(input_df)\n",
    "prediction_label = label_encoder_delayed.inverse_transform(prediction)\n",
    "\n",
    "# Output\n",
    "print(f\"Prediction: {prediction_label[0]}\")"
   ]
  },
  {
   "cell_type": "code",
   "execution_count": 10,
   "metadata": {},
   "outputs": [
    {
     "name": "stdout",
     "output_type": "stream",
     "text": [
      "Prediction: Yes\n"
     ]
    }
   ],
   "source": [
    "prediction = xgb_model.predict(input_df)\n",
    "prediction_label = label_encoder_delayed.inverse_transform(prediction)\n",
    "\n",
    "# Output \n",
    "print(f\"Prediction: {prediction_label[0]}\")"
   ]
  }
 ],
 "metadata": {
  "kernelspec": {
   "display_name": "base",
   "language": "python",
   "name": "python3"
  },
  "language_info": {
   "codemirror_mode": {
    "name": "ipython",
    "version": 3
   },
   "file_extension": ".py",
   "mimetype": "text/x-python",
   "name": "python",
   "nbconvert_exporter": "python",
   "pygments_lexer": "ipython3",
   "version": "3.12.7"
  }
 },
 "nbformat": 4,
 "nbformat_minor": 2
}
